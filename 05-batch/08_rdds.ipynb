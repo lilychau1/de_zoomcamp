{
 "cells": [
  {
   "cell_type": "code",
   "execution_count": 1,
   "id": "320f803f",
   "metadata": {},
   "outputs": [
    {
     "name": "stderr",
     "output_type": "stream",
     "text": [
      "Setting default log level to \"WARN\".\n",
      "To adjust logging level use sc.setLogLevel(newLevel). For SparkR, use setLogLevel(newLevel).\n",
      "24/02/25 12:35:53 WARN NativeCodeLoader: Unable to load native-hadoop library for your platform... using builtin-java classes where applicable\n"
     ]
    }
   ],
   "source": [
    "import pyspark\n",
    "from pyspark.sql import SparkSession\n",
    "\n",
    "spark = SparkSession.builder \\\n",
    "    .master('local[*]') \\\n",
    "    .appName('test') \\\n",
    "    .getOrCreate()"
   ]
  },
  {
   "cell_type": "code",
   "execution_count": 2,
   "id": "53caf517",
   "metadata": {},
   "outputs": [
    {
     "name": "stderr",
     "output_type": "stream",
     "text": [
      "                                                                                \r"
     ]
    }
   ],
   "source": [
    "df_green = spark.read.parquet('data/pq/green/*/*')"
   ]
  },
  {
   "cell_type": "code",
   "execution_count": 5,
   "id": "4839ce18",
   "metadata": {},
   "outputs": [
    {
     "data": {
      "text/plain": [
       "[Row(VendorID=2, lpep_pickup_datetime=datetime.datetime(2020, 1, 20, 12, 29, 32), lpep_dropoff_datetime=datetime.datetime(2020, 1, 20, 12, 40, 46), store_and_fwd_flag='N', RatecodeID=1, PULocationID=65, DOLocationID=189, passenger_count=1, trip_distance=2.06, fare_amount=10.0, extra=0.0, mta_tax=0.5, tip_amount=2.16, tolls_amount=0.0, ehail_fee=None, improvement_surcharge=0.3, total_amount=12.96, payment_type=1, trip_type=1.0, congestion_surcharge=0.0),\n",
       " Row(VendorID=2, lpep_pickup_datetime=datetime.datetime(2020, 1, 30, 12, 41), lpep_dropoff_datetime=datetime.datetime(2020, 1, 30, 13, 30), store_and_fwd_flag=None, RatecodeID=None, PULocationID=117, DOLocationID=188, passenger_count=None, trip_distance=13.11, fare_amount=38.57, extra=2.75, mta_tax=0.0, tip_amount=0.0, tolls_amount=2.29, ehail_fee=None, improvement_surcharge=0.3, total_amount=43.91, payment_type=None, trip_type=None, congestion_surcharge=None),\n",
       " Row(VendorID=2, lpep_pickup_datetime=datetime.datetime(2020, 1, 16, 22, 30, 18), lpep_dropoff_datetime=datetime.datetime(2020, 1, 16, 22, 33, 53), store_and_fwd_flag='N', RatecodeID=1, PULocationID=17, DOLocationID=217, passenger_count=1, trip_distance=0.47, fare_amount=4.0, extra=0.5, mta_tax=0.5, tip_amount=0.0, tolls_amount=0.0, ehail_fee=None, improvement_surcharge=0.3, total_amount=5.3, payment_type=2, trip_type=1.0, congestion_surcharge=0.0),\n",
       " Row(VendorID=2, lpep_pickup_datetime=datetime.datetime(2020, 1, 24, 22, 46, 59), lpep_dropoff_datetime=datetime.datetime(2020, 1, 24, 22, 51, 32), store_and_fwd_flag='N', RatecodeID=1, PULocationID=75, DOLocationID=74, passenger_count=1, trip_distance=0.56, fare_amount=5.0, extra=0.5, mta_tax=0.5, tip_amount=0.0, tolls_amount=0.0, ehail_fee=None, improvement_surcharge=0.3, total_amount=6.3, payment_type=2, trip_type=1.0, congestion_surcharge=0.0),\n",
       " Row(VendorID=2, lpep_pickup_datetime=datetime.datetime(2020, 1, 12, 16, 31, 14), lpep_dropoff_datetime=datetime.datetime(2020, 1, 12, 16, 35, 17), store_and_fwd_flag='N', RatecodeID=1, PULocationID=41, DOLocationID=74, passenger_count=1, trip_distance=0.69, fare_amount=5.0, extra=0.0, mta_tax=0.5, tip_amount=1.0, tolls_amount=0.0, ehail_fee=None, improvement_surcharge=0.3, total_amount=6.8, payment_type=1, trip_type=1.0, congestion_surcharge=0.0)]"
      ]
     },
     "execution_count": 5,
     "metadata": {},
     "output_type": "execute_result"
    }
   ],
   "source": [
    "df_green.rdd.take(5)"
   ]
  },
  {
   "cell_type": "code",
   "execution_count": 7,
   "id": "ba184f03",
   "metadata": {},
   "outputs": [],
   "source": [
    "rdd = df_green \\\n",
    "    .select('lpep_pickup_datetime', 'PULocationID', 'total_amount') \\\n",
    "    .rdd"
   ]
  },
  {
   "cell_type": "code",
   "execution_count": 10,
   "id": "9799c048",
   "metadata": {},
   "outputs": [],
   "source": [
    "from datetime import datetime"
   ]
  },
  {
   "cell_type": "code",
   "execution_count": 13,
   "id": "ffeedf79",
   "metadata": {},
   "outputs": [],
   "source": [
    "start = datetime(year=2020, month=1, day=1)\n",
    "\n",
    "def filter_outliers(row):\n",
    "    return row.lpep_pickup_datetime >= start"
   ]
  },
  {
   "cell_type": "code",
   "execution_count": 15,
   "id": "ff8e4a88",
   "metadata": {},
   "outputs": [],
   "source": [
    "rows = rdd.take(10)\n",
    "row = rows[0]"
   ]
  },
  {
   "cell_type": "code",
   "execution_count": 18,
   "id": "4d349a76",
   "metadata": {},
   "outputs": [
    {
     "data": {
      "text/plain": [
       "datetime.datetime(2020, 1, 20, 12, 0)"
      ]
     },
     "execution_count": 18,
     "metadata": {},
     "output_type": "execute_result"
    }
   ],
   "source": []
  },
  {
   "cell_type": "code",
   "execution_count": 20,
   "id": "aeed3f87",
   "metadata": {},
   "outputs": [],
   "source": [
    "def prepare_for_grouping(row):\n",
    "    hour = row.lpep_pickup_datetime.replace(minute=0, second=0, microsecond=0)\n",
    "    zone = row.PULocationID\n",
    "    \n",
    "    key = (hour, zone)\n",
    "    \n",
    "    amount = row.total_amount\n",
    "    count = 1\n",
    "    \n",
    "    value = (amount, count)\n",
    "    \n",
    "    return (key, value)"
   ]
  },
  {
   "cell_type": "code",
   "execution_count": 24,
   "id": "c9f3050b",
   "metadata": {},
   "outputs": [],
   "source": [
    "def reduce(left_value, right_value):\n",
    "    left_amount, left_count = left_value\n",
    "    right_amount, right_count = right_value\n",
    "    \n",
    "    output_amount = left_amount + right_amount\n",
    "    output_count = left_count + right_count\n",
    "        \n",
    "    return (output_amount, output_count)\n",
    "    "
   ]
  },
  {
   "cell_type": "code",
   "execution_count": 32,
   "id": "0bd65558",
   "metadata": {},
   "outputs": [],
   "source": [
    "from collections import namedtuple"
   ]
  },
  {
   "cell_type": "code",
   "execution_count": 33,
   "id": "6ab14b07",
   "metadata": {},
   "outputs": [],
   "source": [
    "RevenueRow = namedtuple('RevenueRow', ['hour', 'zone', 'revenue', 'count'])"
   ]
  },
  {
   "cell_type": "code",
   "execution_count": 34,
   "id": "ce7879c0",
   "metadata": {},
   "outputs": [],
   "source": [
    "def unwrap(row): \n",
    "    return RevenueRow(\n",
    "        hour=row[0][0], \n",
    "        zone=row[0][1], \n",
    "        revenue=row[1][0], \n",
    "        count=row[1][1])"
   ]
  },
  {
   "cell_type": "code",
   "execution_count": 38,
   "id": "9bb1dcfb",
   "metadata": {},
   "outputs": [],
   "source": [
    "from pyspark.sql import types"
   ]
  },
  {
   "cell_type": "code",
   "execution_count": 40,
   "id": "c2e51125",
   "metadata": {},
   "outputs": [],
   "source": [
    "result_schema = types.StructType([\n",
    "    types.StructField('hour', types.TimestampType(), True), \n",
    "    types.StructField('zone', types.IntegerType(), True), \n",
    "    types.StructField('revenue', types.DoubleType(), True), \n",
    "    types.StructField('count', types.IntegerType(), True)\n",
    "])"
   ]
  },
  {
   "cell_type": "code",
   "execution_count": 41,
   "id": "44f0b135",
   "metadata": {},
   "outputs": [],
   "source": [
    "df_result = rdd \\\n",
    "    .filter(filter_outliers) \\\n",
    "    .map(prepare_for_grouping) \\\n",
    "    .reduceByKey(reduce) \\\n",
    "    .map(unwrap) \\\n",
    "    .toDF(result_schema)"
   ]
  },
  {
   "cell_type": "code",
   "execution_count": 43,
   "id": "061a72ee",
   "metadata": {},
   "outputs": [
    {
     "name": "stderr",
     "output_type": "stream",
     "text": [
      "                                                                                \r"
     ]
    }
   ],
   "source": [
    "df_result.write.parquet('tmp/green_revenue_rdd')"
   ]
  },
  {
   "cell_type": "code",
   "execution_count": 5,
   "id": "59750f75",
   "metadata": {},
   "outputs": [],
   "source": [
    "columns = [\n",
    "    'vendorID',\n",
    "    'lpep_pickup_datetime',\n",
    "    'PULocationID',\n",
    "    'DOLocationID',\n",
    "    'trip_distance',\n",
    "]\n",
    "\n",
    "duration_rdd = df_green \\\n",
    "    .select(columns) \\\n",
    "    .rdd"
   ]
  },
  {
   "cell_type": "code",
   "execution_count": 13,
   "id": "48ef8bbe",
   "metadata": {},
   "outputs": [],
   "source": [
    "import pandas as pd"
   ]
  },
  {
   "cell_type": "code",
   "execution_count": 15,
   "id": "6397ebd6",
   "metadata": {
    "scrolled": true
   },
   "outputs": [],
   "source": [
    "rows = duration_rdd.take(10)"
   ]
  },
  {
   "cell_type": "code",
   "execution_count": 20,
   "id": "79fd8552",
   "metadata": {},
   "outputs": [],
   "source": [
    "# model = ...\n",
    "\n",
    "def model_predict(df):\n",
    "#     y_pred = model.predict(df)\n",
    "    y_pred = df.trip_distance * 5\n",
    "    return y_pred"
   ]
  },
  {
   "cell_type": "code",
   "execution_count": 21,
   "id": "50698442",
   "metadata": {},
   "outputs": [],
   "source": [
    "def apply_model_in_batch(rows): \n",
    "    df = pd.DataFrame(rows, columns=columns)\n",
    "    predictions = model_predict(df)\n",
    "    df['predicted_duration'] = predictions\n",
    "    \n",
    "    for row in df.itertuples():\n",
    "          yield row"
   ]
  },
  {
   "cell_type": "code",
   "execution_count": 23,
   "id": "e7583091",
   "metadata": {},
   "outputs": [
    {
     "name": "stderr",
     "output_type": "stream",
     "text": [
      "                                                                                \r"
     ]
    }
   ],
   "source": [
    "df_predictions = duration_rdd \\\n",
    "    .mapPartitions(apply_model_in_batch) \\\n",
    "    .toDF() \\\n",
    "    .drop('Index')"
   ]
  },
  {
   "cell_type": "code",
   "execution_count": 24,
   "id": "6c489156",
   "metadata": {},
   "outputs": [
    {
     "name": "stderr",
     "output_type": "stream",
     "text": [
      "\r",
      "[Stage 10:>                                                         (0 + 1) / 1]\r"
     ]
    },
    {
     "name": "stdout",
     "output_type": "stream",
     "text": [
      "+--------+--------------------+------------+------------+-------------+------------------+\n",
      "|vendorID|lpep_pickup_datetime|PULocationID|DOLocationID|trip_distance|predicted_duration|\n",
      "+--------+--------------------+------------+------------+-------------+------------------+\n",
      "|       2|                  {}|          65|         189|         2.06|              10.3|\n",
      "|       2|                  {}|         117|         188|        13.11|             65.55|\n",
      "|       2|                  {}|          17|         217|         0.47|2.3499999999999996|\n",
      "|       2|                  {}|          75|          74|         0.56|2.8000000000000003|\n",
      "|       2|                  {}|          41|          74|         0.69|3.4499999999999997|\n",
      "|       2|                  {}|          43|         140|         2.05|             10.25|\n",
      "|       2|                  {}|          92|          92|         1.06| 5.300000000000001|\n",
      "|       2|                  {}|         181|         177|         4.63|             23.15|\n",
      "|       1|                  {}|          17|          37|          3.0|              15.0|\n",
      "|       1|                  {}|         191|         135|          0.0|               0.0|\n",
      "|       2|                  {}|          51|          60|         7.83|             39.15|\n",
      "|       2|                  {}|          52|          52|         0.52|               2.6|\n",
      "|       2|                  {}|          74|         167|         3.45|             17.25|\n",
      "|       2|                  {}|          52|          25|         0.31|              1.55|\n",
      "|       2|                  {}|          86|         140|        23.88|119.39999999999999|\n",
      "|       2|                  {}|          82|          56|         1.96|               9.8|\n",
      "|       2|                  {}|         130|         117|        13.46| 67.30000000000001|\n",
      "|       2|                  {}|          74|         238|         3.09|             15.45|\n",
      "|       2|                  {}|          75|          43|         0.35|              1.75|\n",
      "|       2|                  {}|          81|          74|         9.45|             47.25|\n",
      "+--------+--------------------+------------+------------+-------------+------------------+\n",
      "only showing top 20 rows\n",
      "\n"
     ]
    },
    {
     "name": "stderr",
     "output_type": "stream",
     "text": [
      "\r",
      "                                                                                \r"
     ]
    }
   ],
   "source": [
    "df_predictions.show()"
   ]
  },
  {
   "cell_type": "code",
   "execution_count": null,
   "id": "de3dd1dc",
   "metadata": {},
   "outputs": [],
   "source": []
  }
 ],
 "metadata": {
  "kernelspec": {
   "display_name": "Python 3 (ipykernel)",
   "language": "python",
   "name": "python3"
  },
  "language_info": {
   "codemirror_mode": {
    "name": "ipython",
    "version": 3
   },
   "file_extension": ".py",
   "mimetype": "text/x-python",
   "name": "python",
   "nbconvert_exporter": "python",
   "pygments_lexer": "ipython3",
   "version": "3.11.5"
  }
 },
 "nbformat": 4,
 "nbformat_minor": 5
}
