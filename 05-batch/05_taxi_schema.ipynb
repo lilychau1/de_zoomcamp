{
 "cells": [
  {
   "cell_type": "code",
   "execution_count": 49,
   "id": "82e687af",
   "metadata": {},
   "outputs": [],
   "source": [
    "import pyspark\n",
    "from pyspark.sql import SparkSession\n",
    "from pyspark.sql import types"
   ]
  },
  {
   "cell_type": "code",
   "execution_count": 3,
   "id": "d51cad77",
   "metadata": {},
   "outputs": [
    {
     "name": "stderr",
     "output_type": "stream",
     "text": [
      "Setting default log level to \"WARN\".\n",
      "To adjust logging level use sc.setLogLevel(newLevel). For SparkR, use setLogLevel(newLevel).\n",
      "24/02/24 17:06:27 WARN NativeCodeLoader: Unable to load native-hadoop library for your platform... using builtin-java classes where applicable\n"
     ]
    }
   ],
   "source": [
    "spark = SparkSession.builder \\\n",
    "    .master(\"local[*]\") \\\n",
    "    .appName('test') \\\n",
    "    .getOrCreate()"
   ]
  },
  {
   "cell_type": "code",
   "execution_count": 34,
   "id": "536c2320",
   "metadata": {},
   "outputs": [],
   "source": [
    "df_green_2021 = spark \\\n",
    "    .read \\\n",
    "    .parquet('data/raw/green/2021/01/')"
   ]
  },
  {
   "cell_type": "code",
   "execution_count": 35,
   "id": "c2c721b8",
   "metadata": {},
   "outputs": [
    {
     "name": "stdout",
     "output_type": "stream",
     "text": [
      "root\n",
      " |-- VendorID: long (nullable = true)\n",
      " |-- lpep_pickup_datetime: timestamp_ntz (nullable = true)\n",
      " |-- lpep_dropoff_datetime: timestamp_ntz (nullable = true)\n",
      " |-- store_and_fwd_flag: string (nullable = true)\n",
      " |-- RatecodeID: double (nullable = true)\n",
      " |-- PULocationID: long (nullable = true)\n",
      " |-- DOLocationID: long (nullable = true)\n",
      " |-- passenger_count: double (nullable = true)\n",
      " |-- trip_distance: double (nullable = true)\n",
      " |-- fare_amount: double (nullable = true)\n",
      " |-- extra: double (nullable = true)\n",
      " |-- mta_tax: double (nullable = true)\n",
      " |-- tip_amount: double (nullable = true)\n",
      " |-- tolls_amount: double (nullable = true)\n",
      " |-- ehail_fee: integer (nullable = true)\n",
      " |-- improvement_surcharge: double (nullable = true)\n",
      " |-- total_amount: double (nullable = true)\n",
      " |-- payment_type: double (nullable = true)\n",
      " |-- trip_type: double (nullable = true)\n",
      " |-- congestion_surcharge: double (nullable = true)\n",
      "\n"
     ]
    }
   ],
   "source": [
    "df_green_2021.printSchema()"
   ]
  },
  {
   "cell_type": "code",
   "execution_count": 42,
   "id": "0743f6fe",
   "metadata": {
    "scrolled": false
   },
   "outputs": [
    {
     "name": "stdout",
     "output_type": "stream",
     "text": [
      "Processing data for 2021/1...\n",
      "Processing data for 2021/2...\n",
      "Processing data for 2021/3...\n",
      "Processing data for 2021/4...\n",
      "Processing data for 2021/5...\n",
      "Processing data for 2021/6...\n",
      "Processing data for 2021/7...\n",
      "Processing data for 2021/8...\n",
      "Processing data for 2021/9...\n",
      "Processing data for 2021/10...\n",
      "Processing data for 2021/11...\n",
      "Processing data for 2021/12...\n"
     ]
    }
   ],
   "source": [
    "year = 2021\n",
    "for month in range(1, 13):\n",
    "    print(f'Processing data for {year}/{month}...')\n",
    "    input_path = f'data/raw/green/{year}/{month:02d}/'\n",
    "    output_path = f'data/pq/green/{year}/{month:02d}/'\n",
    "    \n",
    "    df_green = spark.read \\\n",
    "        .option('header', 'true') \\\n",
    "        .parquet(input_path)\n",
    "\n",
    "    df_green = df_green.select(\n",
    "        df_green.VendorID.cast(types.LongType()),\n",
    "        df_green.lpep_pickup_datetime.cast(types.TimestampType()),\n",
    "        df_green.lpep_dropoff_datetime.cast(types.TimestampType()),\n",
    "        df_green.store_and_fwd_flag.cast(types.StringType()),\n",
    "        df_green.RatecodeID.cast(types.LongType()),\n",
    "        df_green.PULocationID.cast(types.LongType()),\n",
    "        df_green.DOLocationID.cast(types.LongType()),\n",
    "        df_green.passenger_count.cast(types.LongType()),\n",
    "        df_green.trip_distance.cast(types.DoubleType()),\n",
    "        df_green.fare_amount.cast(types.DoubleType()),\n",
    "        df_green.extra.cast(types.DoubleType()),\n",
    "        df_green.mta_tax.cast(types.DoubleType()),\n",
    "        df_green.tip_amount.cast(types.DoubleType()),\n",
    "        df_green.tolls_amount.cast(types.DoubleType()),\n",
    "        df_green.ehail_fee.cast(types.DoubleType()),\n",
    "        df_green.improvement_surcharge.cast(types.DoubleType()),\n",
    "        df_green.total_amount.cast(types.DoubleType()),\n",
    "        df_green.payment_type.cast(types.LongType()),\n",
    "        df_green.trip_type.cast(types.DoubleType()),\n",
    "        df_green.congestion_surcharge.cast(types.DoubleType()),\n",
    "    )\n",
    "    \n",
    "    df_green.repartition(4) \\\n",
    "        .write.parquet(output_path, mode='overwrite')"
   ]
  },
  {
   "cell_type": "code",
   "execution_count": 43,
   "id": "4f4665ec",
   "metadata": {},
   "outputs": [
    {
     "name": "stdout",
     "output_type": "stream",
     "text": [
      "Processing data for 2020/1...\n"
     ]
    },
    {
     "name": "stderr",
     "output_type": "stream",
     "text": [
      "                                                                                \r"
     ]
    },
    {
     "name": "stdout",
     "output_type": "stream",
     "text": [
      "Processing data for 2020/2...\n"
     ]
    },
    {
     "name": "stderr",
     "output_type": "stream",
     "text": [
      "                                                                                \r"
     ]
    },
    {
     "name": "stdout",
     "output_type": "stream",
     "text": [
      "Processing data for 2020/3...\n"
     ]
    },
    {
     "name": "stderr",
     "output_type": "stream",
     "text": [
      "\r",
      "[Stage 148:>                                                        (0 + 4) / 4]\r",
      "\r",
      "                                                                                \r"
     ]
    },
    {
     "name": "stdout",
     "output_type": "stream",
     "text": [
      "Processing data for 2020/4...\n",
      "Processing data for 2020/5...\n",
      "Processing data for 2020/6...\n",
      "Processing data for 2020/7...\n",
      "Processing data for 2020/8...\n",
      "Processing data for 2020/9...\n",
      "Processing data for 2020/10...\n",
      "Processing data for 2020/11...\n",
      "Processing data for 2020/12...\n"
     ]
    }
   ],
   "source": [
    "year = 2020\n",
    "for month in range(1, 13):\n",
    "    print(f'Processing data for {year}/{month}...')\n",
    "    input_path = f'data/raw/green/{year}/{month:02d}/'\n",
    "    output_path = f'data/pq/green/{year}/{month:02d}/'\n",
    "    \n",
    "    df_green = spark.read \\\n",
    "        .option('header', 'true') \\\n",
    "        .parquet(input_path)\n",
    "\n",
    "    df_green = df_green.select(\n",
    "        df_green.VendorID.cast(types.LongType()),\n",
    "        df_green.lpep_pickup_datetime.cast(types.TimestampType()),\n",
    "        df_green.lpep_dropoff_datetime.cast(types.TimestampType()),\n",
    "        df_green.store_and_fwd_flag.cast(types.StringType()),\n",
    "        df_green.RatecodeID.cast(types.LongType()),\n",
    "        df_green.PULocationID.cast(types.LongType()),\n",
    "        df_green.DOLocationID.cast(types.LongType()),\n",
    "        df_green.passenger_count.cast(types.LongType()),\n",
    "        df_green.trip_distance.cast(types.DoubleType()),\n",
    "        df_green.fare_amount.cast(types.DoubleType()),\n",
    "        df_green.extra.cast(types.DoubleType()),\n",
    "        df_green.mta_tax.cast(types.DoubleType()),\n",
    "        df_green.tip_amount.cast(types.DoubleType()),\n",
    "        df_green.tolls_amount.cast(types.DoubleType()),\n",
    "        df_green.ehail_fee.cast(types.DoubleType()),\n",
    "        df_green.improvement_surcharge.cast(types.DoubleType()),\n",
    "        df_green.total_amount.cast(types.DoubleType()),\n",
    "        df_green.payment_type.cast(types.LongType()),\n",
    "        df_green.trip_type.cast(types.DoubleType()),\n",
    "        df_green.congestion_surcharge.cast(types.DoubleType()),\n",
    "    )\n",
    "    \n",
    "    df_green.repartition(4) \\\n",
    "        .write.parquet(output_path, mode='overwrite')"
   ]
  },
  {
   "cell_type": "code",
   "execution_count": 47,
   "id": "bc6faaec",
   "metadata": {},
   "outputs": [
    {
     "name": "stdout",
     "output_type": "stream",
     "text": [
      "Processing data for 2021/1...\n"
     ]
    },
    {
     "name": "stderr",
     "output_type": "stream",
     "text": [
      "                                                                                \r"
     ]
    },
    {
     "name": "stdout",
     "output_type": "stream",
     "text": [
      "Processing data for 2021/2...\n"
     ]
    },
    {
     "name": "stderr",
     "output_type": "stream",
     "text": [
      "                                                                                \r"
     ]
    },
    {
     "name": "stdout",
     "output_type": "stream",
     "text": [
      "Processing data for 2021/3...\n"
     ]
    },
    {
     "name": "stderr",
     "output_type": "stream",
     "text": [
      "                                                                                \r"
     ]
    },
    {
     "name": "stdout",
     "output_type": "stream",
     "text": [
      "Processing data for 2021/4...\n"
     ]
    },
    {
     "name": "stderr",
     "output_type": "stream",
     "text": [
      "                                                                                \r"
     ]
    },
    {
     "name": "stdout",
     "output_type": "stream",
     "text": [
      "Processing data for 2021/5...\n"
     ]
    },
    {
     "name": "stderr",
     "output_type": "stream",
     "text": [
      "                                                                                \r"
     ]
    },
    {
     "name": "stdout",
     "output_type": "stream",
     "text": [
      "Processing data for 2021/6...\n"
     ]
    },
    {
     "name": "stderr",
     "output_type": "stream",
     "text": [
      "                                                                                \r"
     ]
    },
    {
     "name": "stdout",
     "output_type": "stream",
     "text": [
      "Processing data for 2021/7...\n"
     ]
    },
    {
     "name": "stderr",
     "output_type": "stream",
     "text": [
      "                                                                                \r"
     ]
    },
    {
     "name": "stdout",
     "output_type": "stream",
     "text": [
      "Processing data for 2021/8...\n"
     ]
    },
    {
     "name": "stderr",
     "output_type": "stream",
     "text": [
      "                                                                                \r"
     ]
    },
    {
     "name": "stdout",
     "output_type": "stream",
     "text": [
      "Processing data for 2021/9...\n"
     ]
    },
    {
     "name": "stderr",
     "output_type": "stream",
     "text": [
      "                                                                                \r"
     ]
    },
    {
     "name": "stdout",
     "output_type": "stream",
     "text": [
      "Processing data for 2021/10...\n"
     ]
    },
    {
     "name": "stderr",
     "output_type": "stream",
     "text": [
      "                                                                                \r"
     ]
    },
    {
     "name": "stdout",
     "output_type": "stream",
     "text": [
      "Processing data for 2021/11...\n"
     ]
    },
    {
     "name": "stderr",
     "output_type": "stream",
     "text": [
      "                                                                                \r"
     ]
    },
    {
     "name": "stdout",
     "output_type": "stream",
     "text": [
      "Processing data for 2021/12...\n"
     ]
    },
    {
     "name": "stderr",
     "output_type": "stream",
     "text": [
      "                                                                                \r"
     ]
    }
   ],
   "source": [
    "year = 2021\n",
    "for month in range(1, 13):\n",
    "    print(f'Processing data for {year}/{month}...')\n",
    "    input_path = f'data/raw/yellow/{year}/{month:02d}/'\n",
    "    output_path = f'data/pq/yellow/{year}/{month:02d}/'\n",
    "    \n",
    "    df_yellow = spark.read \\\n",
    "        .option('header', 'true') \\\n",
    "        .parquet(input_path)\n",
    "\n",
    "    df_yellow = df_yellow.select( \\\n",
    "        df_yellow.VendorID.cast(types.IntegerType()), \n",
    "        df_yellow.tpep_pickup_datetime.cast(types.TimestampType()), \n",
    "        df_yellow.tpep_dropoff_datetime.cast(types.TimestampType()), \n",
    "        df_yellow.passenger_count.cast(types.IntegerType()), \n",
    "        df_yellow.trip_distance.cast(types.DoubleType()), \n",
    "        df_yellow.RatecodeID.cast(types.IntegerType()), \n",
    "        df_yellow.store_and_fwd_flag.cast(types.StringType()), \n",
    "        df_yellow.PULocationID.cast(types.IntegerType()), \n",
    "        df_yellow.DOLocationID.cast(types.IntegerType()), \n",
    "        df_yellow.payment_type.cast(types.IntegerType()), \n",
    "        df_yellow.fare_amount.cast(types.DoubleType()), \n",
    "        df_yellow.extra.cast(types.DoubleType()), \n",
    "        df_yellow.mta_tax.cast(types.DoubleType()), \n",
    "        df_yellow.tip_amount.cast(types.DoubleType()), \n",
    "        df_yellow.tolls_amount.cast(types.DoubleType()), \n",
    "        df_yellow.improvement_surcharge.cast(types.DoubleType()), \n",
    "        df_yellow.total_amount.cast(types.DoubleType()), \n",
    "        df_yellow.congestion_surcharge.cast(types.DoubleType()), \n",
    "    )\n",
    "    \n",
    "    df_yellow.repartition(4) \\\n",
    "        .write.parquet(output_path, mode='overwrite')"
   ]
  },
  {
   "cell_type": "code",
   "execution_count": 48,
   "id": "0598f5d0",
   "metadata": {
    "scrolled": true
   },
   "outputs": [
    {
     "name": "stdout",
     "output_type": "stream",
     "text": [
      "Processing data for 2020/1...\n"
     ]
    },
    {
     "name": "stderr",
     "output_type": "stream",
     "text": [
      "                                                                                \r"
     ]
    },
    {
     "name": "stdout",
     "output_type": "stream",
     "text": [
      "Processing data for 2020/2...\n"
     ]
    },
    {
     "name": "stderr",
     "output_type": "stream",
     "text": [
      "                                                                                \r"
     ]
    },
    {
     "name": "stdout",
     "output_type": "stream",
     "text": [
      "Processing data for 2020/3...\n"
     ]
    },
    {
     "name": "stderr",
     "output_type": "stream",
     "text": [
      "                                                                                \r"
     ]
    },
    {
     "name": "stdout",
     "output_type": "stream",
     "text": [
      "Processing data for 2020/4...\n"
     ]
    },
    {
     "name": "stderr",
     "output_type": "stream",
     "text": [
      "                                                                                \r"
     ]
    },
    {
     "name": "stdout",
     "output_type": "stream",
     "text": [
      "Processing data for 2020/5...\n"
     ]
    },
    {
     "name": "stderr",
     "output_type": "stream",
     "text": [
      "                                                                                \r"
     ]
    },
    {
     "name": "stdout",
     "output_type": "stream",
     "text": [
      "Processing data for 2020/6...\n"
     ]
    },
    {
     "name": "stderr",
     "output_type": "stream",
     "text": [
      "                                                                                \r"
     ]
    },
    {
     "name": "stdout",
     "output_type": "stream",
     "text": [
      "Processing data for 2020/7...\n"
     ]
    },
    {
     "name": "stderr",
     "output_type": "stream",
     "text": [
      "                                                                                \r"
     ]
    },
    {
     "name": "stdout",
     "output_type": "stream",
     "text": [
      "Processing data for 2020/8...\n"
     ]
    },
    {
     "name": "stderr",
     "output_type": "stream",
     "text": [
      "                                                                                \r"
     ]
    },
    {
     "name": "stdout",
     "output_type": "stream",
     "text": [
      "Processing data for 2020/9...\n"
     ]
    },
    {
     "name": "stderr",
     "output_type": "stream",
     "text": [
      "                                                                                \r"
     ]
    },
    {
     "name": "stdout",
     "output_type": "stream",
     "text": [
      "Processing data for 2020/10...\n"
     ]
    },
    {
     "name": "stderr",
     "output_type": "stream",
     "text": [
      "                                                                                \r"
     ]
    },
    {
     "name": "stdout",
     "output_type": "stream",
     "text": [
      "Processing data for 2020/11...\n"
     ]
    },
    {
     "name": "stderr",
     "output_type": "stream",
     "text": [
      "                                                                                \r"
     ]
    },
    {
     "name": "stdout",
     "output_type": "stream",
     "text": [
      "Processing data for 2020/12...\n"
     ]
    },
    {
     "name": "stderr",
     "output_type": "stream",
     "text": [
      "                                                                                \r"
     ]
    }
   ],
   "source": [
    "year = 2020\n",
    "for month in range(1, 13):\n",
    "    print(f'Processing data for {year}/{month}...')\n",
    "    input_path = f'data/raw/yellow/{year}/{month:02d}/'\n",
    "    output_path = f'data/pq/yellow/{year}/{month:02d}/'\n",
    "    \n",
    "    df_yellow = spark.read \\\n",
    "        .option('header', 'true') \\\n",
    "        .parquet(input_path)\n",
    "\n",
    "    df_yellow = df_yellow.select( \\\n",
    "        df_yellow.VendorID.cast(types.IntegerType()), \n",
    "        df_yellow.tpep_pickup_datetime.cast(types.TimestampType()), \n",
    "        df_yellow.tpep_dropoff_datetime.cast(types.TimestampType()), \n",
    "        df_yellow.passenger_count.cast(types.IntegerType()), \n",
    "        df_yellow.trip_distance.cast(types.DoubleType()), \n",
    "        df_yellow.RatecodeID.cast(types.IntegerType()), \n",
    "        df_yellow.store_and_fwd_flag.cast(types.StringType()), \n",
    "        df_yellow.PULocationID.cast(types.IntegerType()), \n",
    "        df_yellow.DOLocationID.cast(types.IntegerType()), \n",
    "        df_yellow.payment_type.cast(types.IntegerType()), \n",
    "        df_yellow.fare_amount.cast(types.DoubleType()), \n",
    "        df_yellow.extra.cast(types.DoubleType()), \n",
    "        df_yellow.mta_tax.cast(types.DoubleType()), \n",
    "        df_yellow.tip_amount.cast(types.DoubleType()), \n",
    "        df_yellow.tolls_amount.cast(types.DoubleType()), \n",
    "        df_yellow.improvement_surcharge.cast(types.DoubleType()), \n",
    "        df_yellow.total_amount.cast(types.DoubleType()), \n",
    "        df_yellow.congestion_surcharge.cast(types.DoubleType()), \n",
    "    )\n",
    "    \n",
    "    df_yellow.repartition(4) \\\n",
    "        .write.parquet(output_path, mode='overwrite')"
   ]
  },
  {
   "cell_type": "code",
   "execution_count": null,
   "id": "8fef1507",
   "metadata": {},
   "outputs": [],
   "source": []
  },
  {
   "cell_type": "code",
   "execution_count": null,
   "id": "4bad4c96",
   "metadata": {},
   "outputs": [],
   "source": []
  }
 ],
 "metadata": {
  "kernelspec": {
   "display_name": "Python 3 (ipykernel)",
   "language": "python",
   "name": "python3"
  },
  "language_info": {
   "codemirror_mode": {
    "name": "ipython",
    "version": 3
   },
   "file_extension": ".py",
   "mimetype": "text/x-python",
   "name": "python",
   "nbconvert_exporter": "python",
   "pygments_lexer": "ipython3",
   "version": "3.11.5"
  }
 },
 "nbformat": 4,
 "nbformat_minor": 5
}
