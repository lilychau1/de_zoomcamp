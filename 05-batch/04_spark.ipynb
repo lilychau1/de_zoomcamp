{
 "cells": [
  {
   "cell_type": "code",
   "execution_count": 1,
   "id": "37b7b4e4",
   "metadata": {},
   "outputs": [],
   "source": [
    "import pyspark\n",
    "from pyspark.sql import SparkSession"
   ]
  },
  {
   "cell_type": "code",
   "execution_count": 2,
   "id": "5e7a5cc2",
   "metadata": {},
   "outputs": [
    {
     "name": "stderr",
     "output_type": "stream",
     "text": [
      "Setting default log level to \"WARN\".\n",
      "To adjust logging level use sc.setLogLevel(newLevel). For SparkR, use setLogLevel(newLevel).\n",
      "24/02/24 11:53:41 WARN NativeCodeLoader: Unable to load native-hadoop library for your platform... using builtin-java classes where applicable\n"
     ]
    }
   ],
   "source": [
    "spark = SparkSession.builder \\\n",
    "    .master(\"local[*]\") \\\n",
    "    .appName('test') \\\n",
    "    .getOrCreate()"
   ]
  },
  {
   "cell_type": "code",
   "execution_count": 3,
   "id": "0475eaa5",
   "metadata": {
    "scrolled": true
   },
   "outputs": [],
   "source": [
    "# !wget https://github.com/DataTalksClub/nyc-tlc-data/releases/download/fhvhv/fhvhv_tripdata_2021-01.csv.gz"
   ]
  },
  {
   "cell_type": "code",
   "execution_count": 4,
   "id": "611351ab",
   "metadata": {},
   "outputs": [],
   "source": [
    "# !gzip -d fhvhv_tripdata_2021-01.csv.gz"
   ]
  },
  {
   "cell_type": "code",
   "execution_count": 5,
   "id": "f1f11b01",
   "metadata": {},
   "outputs": [
    {
     "name": "stdout",
     "output_type": "stream",
     "text": [
      "11908469 fhvhv_tripdata_2021-01.csv\r\n"
     ]
    }
   ],
   "source": [
    "!wc -l fhvhv_tripdata_2021-01.csv"
   ]
  },
  {
   "cell_type": "code",
   "execution_count": 6,
   "id": "e0c3c954",
   "metadata": {},
   "outputs": [],
   "source": [
    " df = spark.read \\\n",
    "    .option('header', 'true') \\\n",
    "    .csv('fhvhv_tripdata_2021-01.csv')"
   ]
  },
  {
   "cell_type": "code",
   "execution_count": 7,
   "id": "a48d3052",
   "metadata": {},
   "outputs": [
    {
     "data": {
      "text/plain": [
       "[Row(hvfhs_license_num='HV0003', dispatching_base_num='B02682', pickup_datetime='2021-01-01 00:33:44', dropoff_datetime='2021-01-01 00:49:07', PULocationID='230', DOLocationID='166', SR_Flag=None),\n",
       " Row(hvfhs_license_num='HV0003', dispatching_base_num='B02682', pickup_datetime='2021-01-01 00:55:19', dropoff_datetime='2021-01-01 01:18:21', PULocationID='152', DOLocationID='167', SR_Flag=None),\n",
       " Row(hvfhs_license_num='HV0003', dispatching_base_num='B02764', pickup_datetime='2021-01-01 00:23:56', dropoff_datetime='2021-01-01 00:38:05', PULocationID='233', DOLocationID='142', SR_Flag=None),\n",
       " Row(hvfhs_license_num='HV0003', dispatching_base_num='B02764', pickup_datetime='2021-01-01 00:42:51', dropoff_datetime='2021-01-01 00:45:50', PULocationID='142', DOLocationID='143', SR_Flag=None),\n",
       " Row(hvfhs_license_num='HV0003', dispatching_base_num='B02764', pickup_datetime='2021-01-01 00:48:14', dropoff_datetime='2021-01-01 01:08:42', PULocationID='143', DOLocationID='78', SR_Flag=None)]"
      ]
     },
     "execution_count": 7,
     "metadata": {},
     "output_type": "execute_result"
    }
   ],
   "source": [
    "df.head(5)"
   ]
  },
  {
   "cell_type": "code",
   "execution_count": 8,
   "id": "04842456",
   "metadata": {},
   "outputs": [
    {
     "data": {
      "text/plain": [
       "StructType([StructField('hvfhs_license_num', StringType(), True), StructField('dispatching_base_num', StringType(), True), StructField('pickup_datetime', StringType(), True), StructField('dropoff_datetime', StringType(), True), StructField('PULocationID', StringType(), True), StructField('DOLocationID', StringType(), True), StructField('SR_Flag', StringType(), True)])"
      ]
     },
     "execution_count": 8,
     "metadata": {},
     "output_type": "execute_result"
    }
   ],
   "source": [
    "df.schema"
   ]
  },
  {
   "cell_type": "code",
   "execution_count": 9,
   "id": "dae68da1",
   "metadata": {},
   "outputs": [],
   "source": [
    "!head -n 101 fhvhv_tripdata_2021-01.csv > head.csv"
   ]
  },
  {
   "cell_type": "code",
   "execution_count": 10,
   "id": "7c5ea342",
   "metadata": {},
   "outputs": [],
   "source": [
    "import pandas as pd"
   ]
  },
  {
   "cell_type": "code",
   "execution_count": 11,
   "id": "d7a5f7c7",
   "metadata": {},
   "outputs": [],
   "source": [
    "df_pandas = pd.read_csv('head.csv')"
   ]
  },
  {
   "cell_type": "code",
   "execution_count": 12,
   "id": "3df7ccf7",
   "metadata": {
    "scrolled": false
   },
   "outputs": [
    {
     "data": {
      "text/plain": [
       "hvfhs_license_num        object\n",
       "dispatching_base_num     object\n",
       "pickup_datetime          object\n",
       "dropoff_datetime         object\n",
       "PULocationID              int64\n",
       "DOLocationID              int64\n",
       "SR_Flag                 float64\n",
       "dtype: object"
      ]
     },
     "execution_count": 12,
     "metadata": {},
     "output_type": "execute_result"
    }
   ],
   "source": [
    "df_pandas.dtypes"
   ]
  },
  {
   "cell_type": "code",
   "execution_count": 13,
   "id": "4a22c4df",
   "metadata": {
    "scrolled": true
   },
   "outputs": [
    {
     "data": {
      "text/plain": [
       "StructType([StructField('hvfhs_license_num', StringType(), True), StructField('dispatching_base_num', StringType(), True), StructField('pickup_datetime', StringType(), True), StructField('dropoff_datetime', StringType(), True), StructField('PULocationID', LongType(), True), StructField('DOLocationID', LongType(), True), StructField('SR_Flag', DoubleType(), True)])"
      ]
     },
     "execution_count": 13,
     "metadata": {},
     "output_type": "execute_result"
    }
   ],
   "source": [
    "spark.createDataFrame(df_pandas).schema"
   ]
  },
  {
   "cell_type": "code",
   "execution_count": 14,
   "id": "4b11397c",
   "metadata": {},
   "outputs": [],
   "source": [
    "from pyspark.sql import types"
   ]
  },
  {
   "cell_type": "code",
   "execution_count": 23,
   "id": "ed794dd6",
   "metadata": {},
   "outputs": [],
   "source": [
    "schema = types.StructType([\n",
    "    types.StructField('hvfhs_license_num', types.StringType(), True),\n",
    "    types.StructField('dispatching_base_num', types.StringType(), True),\n",
    "    types.StructField('pickup_datetime', types.TimestampType(), True),\n",
    "    types.StructField('dropoff_datetime', types.TimestampType(), True),\n",
    "    types.StructField('PULocationID', types.IntegerType(), True),\n",
    "    types.StructField('DOLocationID', types.IntegerType(), True),\n",
    "    types.StructField('SR_Flag', types.StringType(), True)\n",
    "])"
   ]
  },
  {
   "cell_type": "code",
   "execution_count": 24,
   "id": "e9f69c1d",
   "metadata": {},
   "outputs": [],
   "source": [
    " df = spark.read \\\n",
    "    .option('header', 'true') \\\n",
    "    .schema(schema) \\\n",
    "    .csv('fhvhv_tripdata_2021-01.csv')"
   ]
  },
  {
   "cell_type": "code",
   "execution_count": 25,
   "id": "27a166f4",
   "metadata": {},
   "outputs": [
    {
     "data": {
      "text/plain": [
       "DataFrame[hvfhs_license_num: string, dispatching_base_num: string, pickup_datetime: timestamp, dropoff_datetime: timestamp, PULocationID: int, DOLocationID: int, SR_Flag: string]"
      ]
     },
     "execution_count": 25,
     "metadata": {},
     "output_type": "execute_result"
    }
   ],
   "source": [
    "df.repartition(24)"
   ]
  },
  {
   "cell_type": "code",
   "execution_count": 27,
   "id": "97af7ccf",
   "metadata": {},
   "outputs": [
    {
     "name": "stderr",
     "output_type": "stream",
     "text": [
      "                                                                                \r"
     ]
    }
   ],
   "source": [
    "df.write.parquet('fhvhv/2021/01/', mode='overwrite')"
   ]
  },
  {
   "cell_type": "code",
   "execution_count": 28,
   "id": "b1c790da",
   "metadata": {},
   "outputs": [],
   "source": [
    "df = spark.read.parquet('fhvhv/2021/01/')"
   ]
  },
  {
   "cell_type": "code",
   "execution_count": 29,
   "id": "fac2496a",
   "metadata": {},
   "outputs": [
    {
     "name": "stdout",
     "output_type": "stream",
     "text": [
      "root\n",
      " |-- hvfhs_license_num: string (nullable = true)\n",
      " |-- dispatching_base_num: string (nullable = true)\n",
      " |-- pickup_datetime: timestamp (nullable = true)\n",
      " |-- dropoff_datetime: timestamp (nullable = true)\n",
      " |-- PULocationID: integer (nullable = true)\n",
      " |-- DOLocationID: integer (nullable = true)\n",
      " |-- SR_Flag: string (nullable = true)\n",
      "\n"
     ]
    }
   ],
   "source": [
    "df.printSchema()"
   ]
  },
  {
   "cell_type": "code",
   "execution_count": 32,
   "id": "a3a2ab4e",
   "metadata": {},
   "outputs": [
    {
     "name": "stdout",
     "output_type": "stream",
     "text": [
      "+-------------------+-------------------+------------+------------+\n",
      "|    pickup_datetime|   dropoff_datetime|PULocationID|DOLocationID|\n",
      "+-------------------+-------------------+------------+------------+\n",
      "|2021-01-18 09:26:34|2021-01-18 09:45:13|         144|         181|\n",
      "|2021-01-18 09:01:10|2021-01-18 09:19:18|         145|         138|\n",
      "|2021-01-18 09:23:03|2021-01-18 09:28:40|         138|          70|\n",
      "|2021-01-18 09:34:22|2021-01-18 09:40:02|         138|         138|\n",
      "|2021-01-18 09:03:11|2021-01-18 09:10:50|          92|         171|\n",
      "|2021-01-18 09:39:57|2021-01-18 09:53:46|          53|         213|\n",
      "|2021-01-18 09:50:14|2021-01-18 10:02:09|          42|         119|\n",
      "|2021-01-18 09:59:00|2021-01-18 10:03:01|         153|         220|\n",
      "|2021-01-18 09:14:15|2021-01-18 09:34:47|           7|         237|\n",
      "|2021-01-18 09:05:00|2021-01-18 09:22:26|         119|         166|\n",
      "|2021-01-18 09:02:52|2021-01-18 09:20:40|         256|          17|\n",
      "|2021-01-18 09:30:05|2021-01-18 09:39:59|         256|         112|\n",
      "|2021-01-18 09:49:57|2021-01-18 10:07:46|         112|         113|\n",
      "|2021-01-18 09:12:32|2021-01-18 09:27:01|         112|          33|\n",
      "|2021-01-18 09:08:30|2021-01-18 09:17:06|         246|          48|\n",
      "|2021-01-18 09:45:07|2021-01-18 09:53:47|          48|         186|\n",
      "|2021-01-18 09:21:22|2021-01-18 09:31:33|          89|          62|\n",
      "|2021-01-18 09:51:05|2021-01-18 10:10:01|         188|          39|\n",
      "|2021-01-18 09:31:47|2021-01-18 09:59:06|         142|          51|\n",
      "|2021-01-18 09:44:28|2021-01-18 10:05:14|          88|         138|\n",
      "+-------------------+-------------------+------------+------------+\n",
      "only showing top 20 rows\n",
      "\n"
     ]
    }
   ],
   "source": [
    "df.select('pickup_datetime', 'dropoff_datetime', 'PULocationID', 'DOLocationID')\\\n",
    "    .filter(df.hvfhs_license_num == 'HV0003') \\\n",
    "    .show()"
   ]
  },
  {
   "cell_type": "code",
   "execution_count": 34,
   "id": "33516713",
   "metadata": {},
   "outputs": [
    {
     "data": {
      "text/plain": [
       "[Row(pickup_datetime=datetime.datetime(2021, 1, 18, 9, 26, 34), dropoff_datetime=datetime.datetime(2021, 1, 18, 9, 45, 13), PULocationID=144, DOLocationID=181),\n",
       " Row(pickup_datetime=datetime.datetime(2021, 1, 18, 9, 1, 10), dropoff_datetime=datetime.datetime(2021, 1, 18, 9, 19, 18), PULocationID=145, DOLocationID=138),\n",
       " Row(pickup_datetime=datetime.datetime(2021, 1, 18, 9, 23, 3), dropoff_datetime=datetime.datetime(2021, 1, 18, 9, 28, 40), PULocationID=138, DOLocationID=70),\n",
       " Row(pickup_datetime=datetime.datetime(2021, 1, 18, 9, 34, 22), dropoff_datetime=datetime.datetime(2021, 1, 18, 9, 40, 2), PULocationID=138, DOLocationID=138),\n",
       " Row(pickup_datetime=datetime.datetime(2021, 1, 18, 9, 3, 11), dropoff_datetime=datetime.datetime(2021, 1, 18, 9, 10, 50), PULocationID=92, DOLocationID=171)]"
      ]
     },
     "execution_count": 34,
     "metadata": {},
     "output_type": "execute_result"
    }
   ],
   "source": [
    "df.select('pickup_datetime', 'dropoff_datetime', 'PULocationID', 'DOLocationID')\\\n",
    "    .filter(df.hvfhs_license_num == 'HV0003') \\\n",
    "    .take(5)"
   ]
  },
  {
   "cell_type": "code",
   "execution_count": 35,
   "id": "cc210647",
   "metadata": {},
   "outputs": [],
   "source": [
    "from pyspark.sql import functions as F"
   ]
  },
  {
   "cell_type": "code",
   "execution_count": 42,
   "id": "356f41ae",
   "metadata": {},
   "outputs": [],
   "source": [
    "def crazy_stuff(base_num):\n",
    "    num = int(base_num[1:])\n",
    "    if num % 7 == 0:\n",
    "        return f's/{num:03x}'\n",
    "    if num % 3 == 0:\n",
    "        return f'a/{num:03x}'\n",
    "    else:\n",
    "        return f'e/{num:03x}'"
   ]
  },
  {
   "cell_type": "code",
   "execution_count": 43,
   "id": "d848bee6",
   "metadata": {},
   "outputs": [
    {
     "data": {
      "text/plain": [
       "'s/b44'"
      ]
     },
     "execution_count": 43,
     "metadata": {},
     "output_type": "execute_result"
    }
   ],
   "source": [
    "crazy_stuff('B02884')"
   ]
  },
  {
   "cell_type": "code",
   "execution_count": 44,
   "id": "da7e08b6",
   "metadata": {},
   "outputs": [],
   "source": [
    "crazy_studd_udf = F.udf(crazy_stuff, returnType=types.StringType())"
   ]
  },
  {
   "cell_type": "code",
   "execution_count": 46,
   "id": "a88e8da5",
   "metadata": {},
   "outputs": [
    {
     "name": "stderr",
     "output_type": "stream",
     "text": [
      "\r",
      "[Stage 13:>                                                         (0 + 1) / 1]\r"
     ]
    },
    {
     "name": "stdout",
     "output_type": "stream",
     "text": [
      "+-------+-----------+------------+------------+------------+\n",
      "|base_id|pickup_date|dropoff_date|PULocationID|DOLocationID|\n",
      "+-------+-----------+------------+------------+------------+\n",
      "|  s/b3d| 2021-01-18|  2021-01-18|         144|         181|\n",
      "|  e/b3b| 2021-01-18|  2021-01-18|         145|         138|\n",
      "|  e/b3b| 2021-01-18|  2021-01-18|         138|          70|\n",
      "|  e/b3b| 2021-01-18|  2021-01-18|         138|         138|\n",
      "|  s/b44| 2021-01-18|  2021-01-18|          92|         171|\n",
      "|  s/b44| 2021-01-18|  2021-01-18|          53|         213|\n",
      "|  e/acc| 2021-01-18|  2021-01-18|          42|         119|\n",
      "|  s/b44| 2021-01-18|  2021-01-18|         153|         220|\n",
      "|  e/acc| 2021-01-18|  2021-01-18|           7|         237|\n",
      "|  e/9ce| 2021-01-18|  2021-01-18|         132|         263|\n",
      "|  e/b38| 2021-01-18|  2021-01-18|         119|         166|\n",
      "|  s/b44| 2021-01-18|  2021-01-18|         256|          17|\n",
      "|  s/b44| 2021-01-18|  2021-01-18|         256|         112|\n",
      "|  s/b44| 2021-01-18|  2021-01-18|         112|         113|\n",
      "|  e/9ce| 2021-01-18|  2021-01-18|          33|         265|\n",
      "|  e/b38| 2021-01-18|  2021-01-18|         112|          33|\n",
      "|  a/b43| 2021-01-18|  2021-01-18|         246|          48|\n",
      "|  a/b43| 2021-01-18|  2021-01-18|          48|         186|\n",
      "|  e/b3b| 2021-01-18|  2021-01-18|          89|          62|\n",
      "|  e/b3b| 2021-01-18|  2021-01-18|         188|          39|\n",
      "+-------+-----------+------------+------------+------------+\n",
      "only showing top 20 rows\n",
      "\n"
     ]
    },
    {
     "name": "stderr",
     "output_type": "stream",
     "text": [
      "\r",
      "                                                                                \r"
     ]
    }
   ],
   "source": [
    "df \\\n",
    "    .withColumn('pickup_date', F.to_date(df.pickup_datetime)) \\\n",
    "    .withColumn('dropoff_date', F.to_date(df.dropoff_datetime)) \\\n",
    "    .withColumn('base_id', crazy_studd_udf(df.dispatching_base_num)) \\\n",
    "    .select('base_id', 'pickup_date', 'dropoff_date', 'PULocationID', 'DOLocationID') \\\n",
    "    .show()"
   ]
  },
  {
   "cell_type": "code",
   "execution_count": null,
   "id": "83e89197",
   "metadata": {},
   "outputs": [],
   "source": []
  }
 ],
 "metadata": {
  "kernelspec": {
   "display_name": "Python 3 (ipykernel)",
   "language": "python",
   "name": "python3"
  },
  "language_info": {
   "codemirror_mode": {
    "name": "ipython",
    "version": 3
   },
   "file_extension": ".py",
   "mimetype": "text/x-python",
   "name": "python",
   "nbconvert_exporter": "python",
   "pygments_lexer": "ipython3",
   "version": "3.11.5"
  }
 },
 "nbformat": 4,
 "nbformat_minor": 5
}
